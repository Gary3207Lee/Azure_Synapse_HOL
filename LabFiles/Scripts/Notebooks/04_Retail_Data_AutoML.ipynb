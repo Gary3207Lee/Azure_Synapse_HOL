{
  "cells": [
    {
      "cell_type": "markdown",
      "source": [
        "### 1. Create Spark tables pointing to the Azure Cosmos DB Analytical Store collections using Azure Synapse Link \n",
        "\n"
      ],
      "metadata": {}
    },
    {
      "cell_type": "code",
      "source": [
        "%%sql\n",
        "create database CosmosDemoRetail"
      ],
      "outputs": [],
      "execution_count": null,
      "metadata": {
        "microsoft": {
          "language": "sparksql"
        }
      }
    },
    {
      "cell_type": "code",
      "source": [
        "%%sql\n",
        "\n",
        "create table if not exists CosmosDemoRetail.RetailProducts\n",
        "using cosmos.olap\n",
        "options(spark.synapse.linkedService 'CosmosDemo',\n",
        "        spark.cosmos.container 'RetailProducts')"
      ],
      "outputs": [],
      "execution_count": null,
      "metadata": {
        "microsoft": {
          "language": "sparksql"
        }
      }
    },
    {
      "cell_type": "code",
      "source": [
        "%%sql\n",
        "\n",
        "create table if not exists CosmosDemoRetail.RetailSales\n",
        "using cosmos.olap\n",
        "options(spark.synapse.linkedService 'CosmosDemo',\n",
        "        spark.cosmos.container 'RetailSales')"
      ],
      "outputs": [],
      "execution_count": null,
      "metadata": {
        "microsoft": {
          "language": "sparksql"
        }
      }
    },
    {
      "cell_type": "code",
      "source": [
        "%%sql\n",
        "\n",
        "create table if not exists CosmosDemoRetail.RetailStoreDemographics\n",
        "using cosmos.olap\n",
        "options(spark.synapse.linkedService 'CosmosDemo',\n",
        "        spark.cosmos.container 'RetailStoreDemographics')"
      ],
      "outputs": [],
      "execution_count": null,
      "metadata": {
        "microsoft": {
          "language": "sparksql"
        }
      }
    },
    {
      "cell_type": "markdown",
      "source": [
        "\n",
        "### 2. Perform Joins across collections, apply filters and aggregations using Spark SQL from Azure Cosmos DB\n"
      ],
      "metadata": {}
    },
    {
      "cell_type": "code",
      "source": [
        "data = spark.sql(\"select a.storeId \\\n",
        "                       , b.productCode \\\n",
        "                       , b.wholeSaleCost \\\n",
        "                       , b.basePrice \\\n",
        "                       , c.ratioAge60 \\\n",
        "                       , c.collegeRatio \\\n",
        "                       , c.income \\\n",
        "                       , c.highIncome150Ratio \\\n",
        "                       , c.largeHH \\\n",
        "                       , c.minoritiesRatio \\\n",
        "                       , c.more1FullTimeEmployeeRatio \\\n",
        "                       , c.distanceNearestWarehouse \\\n",
        "                       , c.salesNearestWarehousesRatio \\\n",
        "                       , c.avgDistanceNearest5Supermarkets \\\n",
        "                       , c.salesNearest5StoresRatio \\\n",
        "                       , a.quantity \\\n",
        "                       , a.logQuantity \\\n",
        "                       , a.advertising \\\n",
        "                       , a.price \\\n",
        "                       , a.weekStarting \\\n",
        "                 from CosmosDemoRetail.RetailSales a \\\n",
        "                 left join CosmosDemoRetail.RetailProducts b \\\n",
        "                 on a.productcode = b.productcode \\\n",
        "                 left join CosmosDemoRetail.RetailStoreDemographics c \\\n",
        "                 on a.storeId = c.storeId \\\n",
        "                 order by a.weekStarting, a.storeId, b.productCode\")\n",
        "\n",
        "display(data)"
      ],
      "outputs": [
        {
          "output_type": "display_data",
          "data": {
            "application/vnd.livy.statement-meta+json": {
              "spark_pool": "sparkpool",
              "session_id": 11,
              "statement_id": 3,
              "state": "finished",
              "livy_statement_state": "available",
              "queued_time": "2021-01-17T04:36:43.0819416Z",
              "execution_start_time": "2021-01-17T04:39:59.4716985Z",
              "execution_finish_time": "2021-01-17T04:41:25.7667493Z"
            },
            "text/plain": "StatementMeta(sparkpool, 11, 3, Finished, Available)"
          },
          "metadata": {}
        },
        {
          "output_type": "display_data",
          "data": {
            "application/vnd.synapse.widget-view+json": {
              "widget_id": "831f4ff6-8364-42bd-9ff7-53d0c8f52b0b",
              "widget_type": "Synapse.DataFrame"
            },
            "text/plain": "SynapseWidget(Synapse.DataFrame, 831f4ff6-8364-42bd-9ff7-53d0c8f52b0b)"
          },
          "metadata": {}
        },
        {
          "output_type": "execute_result",
          "execution_count": 1,
          "data": {},
          "metadata": {}
        }
      ],
      "execution_count": 1,
      "metadata": {
        "diagram": {
          "activateDiagramType": 1,
          "chartConfig": {
            "category": "bar",
            "keys": [
              "storeId"
            ],
            "values": [
              "storeId"
            ],
            "yLabel": "storeId",
            "xLabel": "storeId",
            "aggregation": "COUNT",
            "aggByBackend": false
          },
          "aggData": "\"{\\\"storeId\\\":{\\\"2\\\":12,\\\"5\\\":12,\\\"8\\\":12,\\\"9\\\":12,\\\"12\\\":12,\\\"14\\\":12,\\\"18\\\":12,\\\"21\\\":12,\\\"28\\\":12,\\\"32\\\":12,\\\"33\\\":12,\\\"40\\\":12,\\\"44\\\":9,\\\"45\\\":12,\\\"47\\\":12,\\\"48\\\":12,\\\"49\\\":12,\\\"50\\\":12,\\\"51\\\":12,\\\"52\\\":12,\\\"53\\\":12,\\\"54\\\":12,\\\"56\\\":12,\\\"59\\\":12,\\\"62\\\":12,\\\"64\\\":12,\\\"67\\\":12,\\\"68\\\":9,\\\"70\\\":12,\\\"71\\\":12,\\\"72\\\":12,\\\"73\\\":12,\\\"74\\\":12,\\\"75\\\":12,\\\"76\\\":12,\\\"77\\\":12,\\\"78\\\":12,\\\"80\\\":12,\\\"81\\\":12,\\\"83\\\":12,\\\"84\\\":12,\\\"86\\\":12,\\\"88\\\":12,\\\"89\\\":12,\\\"90\\\":12,\\\"91\\\":12,\\\"92\\\":12,\\\"93\\\":9,\\\"94\\\":12,\\\"95\\\":12,\\\"97\\\":12,\\\"98\\\":12,\\\"100\\\":15,\\\"101\\\":15,\\\"102\\\":15,\\\"103\\\":15,\\\"104\\\":12,\\\"105\\\":15,\\\"106\\\":15,\\\"107\\\":14,\\\"109\\\":12,\\\"110\\\":12,\\\"111\\\":12,\\\"112\\\":12,\\\"113\\\":12,\\\"114\\\":12,\\\"115\\\":12,\\\"116\\\":12,\\\"117\\\":12,\\\"118\\\":12,\\\"119\\\":12,\\\"121\\\":12,\\\"122\\\":12,\\\"123\\\":12,\\\"124\\\":12,\\\"126\\\":12,\\\"128\\\":12,\\\"129\\\":9,\\\"130\\\":12,\\\"131\\\":12,\\\"132\\\":12,\\\"134\\\":9,\\\"137\\\":12}}\"",
          "isSummary": false,
          "previewData": {
            "filter": null
          },
          "isSql": false
        },
        "collapsed": false
      }
    },
    {
      "cell_type": "markdown",
      "source": [
        "### 3. Azure Machine Learning's environment setup for AutoML to build a Forecasting Model\n"
      ],
      "metadata": {}
    },
    {
      "cell_type": "code",
      "source": [
        "import azureml.core\n",
        "import pandas as pd\n",
        "import numpy as np\n",
        "import logging\n",
        "from azureml.core.workspace import Workspace\n",
        "from azureml.core import Workspace\n",
        "from azureml.core.experiment import Experiment\n",
        "from azureml.train.automl import AutoMLConfig\n",
        "import os\n",
        "subscription_id = os.getenv(\"SUBSCRIPTION_ID\", default=\"<SUBSCRIPTION_ID>\")\n",
        "resource_group = os.getenv(\"RESOURCE_GROUP\", default=\"<RESOURCE_GROUP>\")\n",
        "workspace_name = os.getenv(\"WORKSPACE_NAME\", default=\"<WORKSPACE_NAME>\")\n",
        "workspace_region = os.getenv(\"WORKSPACE_REGION\", default=\"<WORKSPACE_REGION>\")\n",
        "\n",
        "ws = Workspace(subscription_id = subscription_id, resource_group = resource_group, workspace_name = workspace_name)\n",
        "ws.write_config()\n",
        "    \n",
        "experiment_name = 'automl-surfaceforecasting'\n",
        "experiment = Experiment(ws, experiment_name)\n",
        "output = {}\n",
        "output['Subscription ID'] = ws.subscription_id\n",
        "output['Workspace'] = ws.name\n",
        "output['SKU'] = ws.sku\n",
        "output['Resource Group'] = ws.resource_group\n",
        "output['Location'] = ws.location\n",
        "output['Run History Name'] = experiment_name\n",
        "pd.set_option('display.max_colwidth', -1)\n",
        "outputDf = pd.DataFrame(data = output, index = [''])\n",
        "outputDf.T"
      ],
      "outputs": [
        {
          "output_type": "display_data",
          "data": {
            "application/vnd.livy.statement-meta+json": {
              "spark_pool": "sparkpool",
              "session_id": 11,
              "statement_id": 5,
              "state": "finished",
              "livy_statement_state": "available",
              "queued_time": "2021-01-17T04:44:05.0640353Z",
              "execution_start_time": "2021-01-17T04:44:05.1022251Z",
              "execution_finish_time": "2021-01-17T04:44:09.1638914Z"
            },
            "text/plain": "StatementMeta(sparkpool, 11, 5, Finished, Available)"
          },
          "metadata": {}
        },
        {
          "output_type": "execute_result",
          "execution_count": 3,
          "data": {
            "text/plain": "                                                      \nSubscription ID   2386ed0e-ac2f-41c7-958a-7397006dce05\nWorkspace         kyowonmlworkspace                   \nSKU               Basic                               \nResource Group    KyoWon_HoL                          \nLocation          koreacentral                        \nRun History Name  automl-surfaceforecasting"
          },
          "metadata": {}
        }
      ],
      "execution_count": 3,
      "metadata": {}
    },
    {
      "cell_type": "markdown",
      "source": [
        "### 4. Data Preparation - Feature engineering, Splitting train & test datasets\n",
        "\n"
      ],
      "metadata": {}
    },
    {
      "cell_type": "code",
      "source": [
        "# Initial variables\n",
        "time_column_name = 'weekStarting'\n",
        "grain_column_names = ['storeId', 'productCode']\n",
        "target_column_name = 'quantity'\n",
        "use_stores = [2, 5, 8,71,102]\n",
        "n_test_periods = 20\n",
        "\n",
        "\n",
        "#DataFrame\n",
        "df = data.toPandas()\n",
        "df[time_column_name] = pd.to_datetime(df[time_column_name])\n",
        "df['storeId'] = pd.to_numeric(df['storeId'])\n",
        "df['quantity'] = pd.to_numeric(df['quantity'])\n",
        "df['advertising'] = pd.to_numeric(df['advertising'])\n",
        "df['price'] = df['price'].astype(float)\n",
        "df['basePrice'] = df['basePrice'].astype(float)\n",
        "df['ratioAge60'] = df['ratioAge60'].astype(float)\n",
        "df['collegeRatio'] = df['collegeRatio'].astype(float)\n",
        "df['highIncome150Ratio'] = df['highIncome150Ratio'].astype(float)\n",
        "df['income'] = df['income'].astype(float)\n",
        "df['largeHH'] = df['largeHH'].astype(float)\n",
        "df['minoritiesRatio'] = df['minoritiesRatio'].astype(float)\n",
        "df['logQuantity'] = df['logQuantity'].astype(float)\n",
        "df['more1FullTimeEmployeeRatio'] = df['more1FullTimeEmployeeRatio'].astype(float)\n",
        "df['distanceNearestWarehouse'] = df['distanceNearestWarehouse'].astype(float)\n",
        "df['salesNearestWarehousesRatio'] = df['salesNearestWarehousesRatio'].astype(float)\n",
        "df['avgDistanceNearest5Supermarkets'] = df['avgDistanceNearest5Supermarkets'].astype(float)\n",
        "df['salesNearest5StoresRatio'] = df['salesNearest5StoresRatio'].astype(float)\n",
        "\n",
        "\n",
        "# Time Series\n",
        "data_subset = df[df.storeId.isin(use_stores)]\n",
        "nseries = data_subset.groupby(grain_column_names).ngroups\n",
        "print('Data subset contains {0} individual time-series.'.format(nseries))\n",
        "\n",
        "# Group by date\n",
        "def split_last_n_by_grain(df, n):\n",
        "    \"\"\"Group df by grain and split on last n rows for each group.\"\"\"\n",
        "    df_grouped = (df.sort_values(time_column_name) # Sort by ascending time\n",
        "                  .groupby(grain_column_names, group_keys=False))\n",
        "    df_head = df_grouped.apply(lambda dfg: dfg.iloc[:-n])\n",
        "    df_tail = df_grouped.apply(lambda dfg: dfg.iloc[-n:])\n",
        "    return df_head, df_tail\n",
        "\n",
        "# splitting\n",
        "train, test = split_last_n_by_grain(data_subset, n_test_periods)\n",
        "print(len(train),len(test))\n",
        "train.to_csv (r'./SurfaceSales_train.csv', index = None, header=True)\n",
        "test.to_csv (r'./SurfaceSales_test.csv', index = None, header=True)\n",
        "datastore = ws.get_default_datastore()\n",
        "datastore.upload_files(files = ['./SurfaceSales_train.csv', './SurfaceSales_test.csv'], target_path = 'dataset/', overwrite = True,show_progress = True)\n",
        "\n",
        "# loading the train dataset\n",
        "from azureml.core.dataset import Dataset\n",
        "train_dataset = Dataset.Tabular.from_delimited_files(path=datastore.path('dataset/SurfaceSales_train.csv'))"
      ],
      "outputs": [
        {
          "output_type": "display_data",
          "data": {
            "application/vnd.livy.statement-meta+json": {
              "spark_pool": "sparkpool",
              "session_id": 11,
              "statement_id": 6,
              "state": "finished",
              "livy_statement_state": "available",
              "queued_time": "2021-01-17T04:44:15.2824924Z",
              "execution_start_time": "2021-01-17T04:44:15.3219231Z",
              "execution_finish_time": "2021-01-17T04:44:29.6070193Z"
            },
            "text/plain": "StatementMeta(sparkpool, 11, 6, Finished, Available)"
          },
          "metadata": {}
        },
        {
          "output_type": "execute_result",
          "execution_count": 4,
          "data": {
            "text/plain": "Data subset contains 15 individual time-series.\n1422 300\nUploading an estimated of 2 files\nUploading ./SurfaceSales_train.csv\nUploaded ./SurfaceSales_train.csv, 1 files out of an estimated total of 2\nUploading ./SurfaceSales_test.csv\nUploaded ./SurfaceSales_test.csv, 2 files out of an estimated total of 2\nUploaded 2 files"
          },
          "metadata": {}
        }
      ],
      "execution_count": 4,
      "metadata": {}
    },
    {
      "cell_type": "markdown",
      "source": [
        "### 5. Training the Models using AutoML Forecasting\n",
        "\n",
        "Please notice that **compute_target** is commented, meaning that the model training will run locally in Synapse Spark.\n"
      ],
      "metadata": {}
    },
    {
      "cell_type": "code",
      "source": [
        "# Parameters\n",
        "time_series_settings = {\n",
        "    'time_column_name': time_column_name,\n",
        "    'grain_column_names': grain_column_names,\n",
        "    'max_horizon': n_test_periods\n",
        "}\n",
        "\n",
        "# Config\n",
        "automl_config = AutoMLConfig(task='forecasting',\n",
        "                             debug_log='automl_ss_sales_errors.log',\n",
        "                             primary_metric='normalized_mean_absolute_error',\n",
        "                             experiment_timeout_hours=0.5,\n",
        "                             training_data=train_dataset,\n",
        "                             label_column_name=target_column_name,\n",
        "                             #compute_target=compute_target,\n",
        "                             enable_early_stopping=True,\n",
        "                             n_cross_validations=3,\n",
        "                             verbosity=logging.INFO,\n",
        "                             **time_series_settings)\n",
        "\n",
        "# Running the training\n",
        "remote_run = experiment.submit(automl_config, show_output=True)"
      ],
      "outputs": [
        {
          "output_type": "display_data",
          "data": {
            "application/vnd.livy.statement-meta+json": {
              "spark_pool": "sparkpool",
              "session_id": 11,
              "statement_id": 7,
              "state": "finished",
              "livy_statement_state": "available",
              "queued_time": "2021-01-17T04:44:39.826436Z",
              "execution_start_time": "2021-01-17T04:44:39.8634327Z",
              "execution_finish_time": "2021-01-17T04:56:29.4068834Z"
            },
            "text/plain": "StatementMeta(sparkpool, 11, 7, Finished, Available)"
          },
          "metadata": {}
        },
        {
          "output_type": "execute_result",
          "execution_count": 5,
          "data": {
            "text/plain": "Running on local machine\nParent Run ID: AutoML_9569e0cd-e9de-486f-ba15-28abdd23f9e1\n\n\rCurrent status: DatasetFeaturization. Beginning to featurize the dataset.\n\rCurrent status: DatasetFeaturizationCompleted. Completed featurizing the dataset.\n\rCurrent status: DatasetCrossValidationSplit. Generating individually featurized CV splits.\n\rCurrent status: DatasetFeaturization. Beginning to featurize the CV split.\n\rCurrent status: DatasetFeaturizationCompleted. Completed featurizing the CV split.\n\rCurrent status: DatasetFeaturization. Beginning to featurize the CV split.\n\rCurrent status: DatasetFeaturizationCompleted. Completed featurizing the CV split.\n\rCurrent status: DatasetFeaturization. Beginning to featurize the CV split.\n\rCurrent status: DatasetFeaturizationCompleted. Completed featurizing the CV split.\n\n****************************************************************************************************\nDATA GUARDRAILS: \n\nTYPE:         Frequency detection\nSTATUS:       PASSED\nDESCRIPTION:  The time series was analyzed, all data points are aligned with detected frequency.\n              \n\n****************************************************************************************************\n\nTYPE:         Missing feature values imputation\nSTATUS:       PASSED\nDESCRIPTION:  No feature missing values were detected in the training data.\n              Learn more about missing value imputation: https://aka.ms/AutomatedMLFeaturization\n\n****************************************************************************************************\n\rCurrent status: ModelSelection. Beginning model selection.\n\n****************************************************************************************************\nITERATION: The iteration being evaluated.\nPIPELINE: A summary description of the pipeline being evaluated.\nDURATION: Time taken for the current iteration.\nMETRIC: The result of computing score on the fitted pipeline.\nBEST: The best observed score thus far.\n****************************************************************************************************\n\n ITERATION   PIPELINE                                       DURATION      METRIC      BEST\n         0   RobustScaler DecisionTree                      0:00:20       0.0081    0.0081\n         1   StandardScalerWrapper DecisionTree             0:00:18       0.0165    0.0081\n         2   MinMaxScaler LassoLars                         0:00:18       0.0895    0.0081\n         3   StandardScalerWrapper LassoLars                0:00:18       0.0897    0.0081\n         4   MinMaxScaler DecisionTree                      0:00:18       0.0119    0.0081\n         5   RobustScaler DecisionTree                      0:00:18       0.0079    0.0079\n         6   StandardScalerWrapper ElasticNet               0:00:18       0.0884    0.0079\n         7   StandardScalerWrapper DecisionTree             0:00:18       0.0122    0.0079\n         8   RobustScaler DecisionTree                      0:00:18       0.0131    0.0079\n         9   MinMaxScaler DecisionTree                      0:00:18       0.0094    0.0079\n        10   StandardScalerWrapper DecisionTree             0:00:18       0.0135    0.0079\n        11   RobustScaler LassoLars                         0:00:19       0.0896    0.0079\n        12   StandardScalerWrapper DecisionTree             0:00:18       0.0132    0.0079\n        13   RobustScaler DecisionTree                      0:00:18       0.0063    0.0063\n        14   StandardScalerWrapper DecisionTree             0:00:18       0.0135    0.0063\n        15   RobustScaler DecisionTree                      0:00:18       0.0094    0.0063\n        16   MinMaxScaler DecisionTree                      0:00:19       0.0080    0.0063\n        17   MinMaxScaler DecisionTree                      0:00:19       0.0098    0.0063\n        18   RobustScaler DecisionTree                      0:00:19       0.0081    0.0063\n        19   StandardScalerWrapper DecisionTree             0:00:19       0.0064    0.0063\n        20   StandardScalerWrapper DecisionTree             0:00:18       0.0079    0.0063\n        21   StandardScalerWrapper DecisionTree             0:00:18       0.0150    0.0063\n        22   RobustScaler RandomForest                      0:00:18       0.0093    0.0063\n        23   MinMaxScaler ExtremeRandomTrees                0:00:18       0.0188    0.0063\n        24   StandardScalerWrapper RandomForest             0:00:18       0.0143    0.0063\n        25   StandardScalerWrapper DecisionTree             0:00:19       0.0356    0.0063\n        26   MinMaxScaler GradientBoosting                  0:00:18       0.0276    0.0063\n        27   RobustScaler RandomForest                      0:00:20       0.0115    0.0063\n        28   RobustScaler RandomForest                      0:00:18       0.0093    0.0063\n        29   RobustScaler RandomForest                      0:00:18       0.0190    0.0063\n        30   VotingEnsemble                                 0:00:32       0.0053    0.0053\nStopping criteria reached at iteration 31. Ending experiment.\n****************************************************************************************************\n\rCurrent status: BestRunExplainModel. Best run model explanations started\n\rCurrent status: ModelExplanationDataSetSetup. Model explanations data setup completed\n\rCurrent status: PickSurrogateModel. Choosing LightGBM as the surrogate model for explanations\n\rCurrent status: EngineeredFeatureExplanations. Computation of engineered features started\n\rCurrent status: EngineeredFeatureExplanations. Computation of engineered features completed\n\rCurrent status: BestRunExplainModel. Best run model explanations completed\n****************************************************************************************************\n----------------------------------------\nException happened during processing of request from ('127.0.0.1', 34096)\nTraceback (most recent call last):\n  File \"/home/trusted-service-user/cluster-env/env/lib/python3.6/socketserver.py\", line 320, in _handle_request_noblock\n    self.process_request(request, client_address)\n  File \"/home/trusted-service-user/cluster-env/env/lib/python3.6/socketserver.py\", line 351, in process_request\n    self.finish_request(request, client_address)\n  File \"/home/trusted-service-user/cluster-env/env/lib/python3.6/socketserver.py\", line 364, in finish_request\n    self.RequestHandlerClass(request, client_address, self)\n  File \"/home/trusted-service-user/cluster-env/env/lib/python3.6/socketserver.py\", line 724, in __init__\n    self.handle()\n  File \"/opt/spark/python/lib/pyspark.zip/pyspark/accumulators.py\", line 267, in handle\n    poll(authenticate_and_accum_updates)\n  File \"/opt/spark/python/lib/pyspark.zip/pyspark/accumulators.py\", line 241, in poll\n    if func():\n  File \"/opt/spark/python/lib/pyspark.zip/pyspark/accumulators.py\", line 263, in authenticate_and_accum_updates\n    \"The value of the provided token to the AccumulatorServer is not correct.\")\nException: The value of the provided token to the AccumulatorServer is not correct.\n----------------------------------------\n----------------------------------------\nException happened during processing of request from ('127.0.0.1', 34098)\nTraceback (most recent call last):\n  File \"/home/trusted-service-user/cluster-env/env/lib/python3.6/socketserver.py\", line 320, in _handle_request_noblock\n    self.process_request(request, client_address)\n  File \"/home/trusted-service-user/cluster-env/env/lib/python3.6/socketserver.py\", line 351, in process_request\n    self.finish_request(request, client_address)\n  File \"/home/trusted-service-user/cluster-env/env/lib/python3.6/socketserver.py\", line 364, in finish_request\n    self.RequestHandlerClass(request, client_address, self)\n  File \"/home/trusted-service-user/cluster-env/env/lib/python3.6/socketserver.py\", line 724, in __init__\n    self.handle()\n  File \"/opt/spark/python/lib/pyspark.zip/pyspark/accumulators.py\", line 267, in handle\n    poll(authenticate_and_accum_updates)\n  File \"/opt/spark/python/lib/pyspark.zip/pyspark/accumulators.py\", line 241, in poll\n    if func():\n  File \"/opt/spark/python/lib/pyspark.zip/pyspark/accumulators.py\", line 256, in authenticate_and_accum_updates\n    received_token = received_token.decode(\"utf-8\")\nUnicodeDecodeError: 'utf-8' codec can't decode byte 0xe4 in position 4: invalid continuation byte\n----------------------------------------\n----------------------------------------\nException happened during processing of request from ('127.0.0.1', 34100)\nTraceback (most recent call last):\n  File \"/home/trusted-service-user/cluster-env/env/lib/python3.6/socketserver.py\", line 320, in _handle_request_noblock\n    self.process_request(request, client_address)\n  File \"/home/trusted-service-user/cluster-env/env/lib/python3.6/socketserver.py\", line 351, in process_request\n    self.finish_request(request, client_address)\n  File \"/home/trusted-service-user/cluster-env/env/lib/python3.6/socketserver.py\", line 364, in finish_request\n    self.RequestHandlerClass(request, client_address, self)\n  File \"/home/trusted-service-user/cluster-env/env/lib/python3.6/socketserver.py\", line 724, in __init__\n    self.handle()\n  File \"/opt/spark/python/lib/pyspark.zip/pyspark/accumulators.py\", line 267, in handle\n    poll(authenticate_and_accum_updates)\n  File \"/opt/spark/python/lib/pyspark.zip/pyspark/accumulators.py\", line 241, in poll\n    if func():\n  File \"/opt/spark/python/lib/pyspark.zip/pyspark/accumulators.py\", line 256, in authenticate_and_accum_updates\n    received_token = received_token.decode(\"utf-8\")\nUnicodeDecodeError: 'utf-8' codec can't decode byte 0xe4 in position 4: invalid continuation byte\n----------------------------------------\n----------------------------------------\nException happened during processing of request from ('127.0.0.1', 34102)\nTraceback (most recent call last):\n  File \"/home/trusted-service-user/cluster-env/env/lib/python3.6/socketserver.py\", line 320, in _handle_request_noblock\n    self.process_request(request, client_address)\n  File \"/home/trusted-service-user/cluster-env/env/lib/python3.6/socketserver.py\", line 351, in process_request\n    self.finish_request(request, client_address)\n  File \"/home/trusted-service-user/cluster-env/env/lib/python3.6/socketserver.py\", line 364, in finish_request\n    self.RequestHandlerClass(request, client_address, self)\n  File \"/home/trusted-service-user/cluster-env/env/lib/python3.6/socketserver.py\", line 724, in __init__\n    self.handle()\n  File \"/opt/spark/python/lib/pyspark.zip/pyspark/accumulators.py\", line 267, in handle\n    poll(authenticate_and_accum_updates)\n  File \"/opt/spark/python/lib/pyspark.zip/pyspark/accumulators.py\", line 241, in poll\n    if func():\n  File \"/opt/spark/python/lib/pyspark.zip/pyspark/accumulators.py\", line 256, in authenticate_and_accum_updates\n    received_token = received_token.decode(\"utf-8\")\nUnicodeDecodeError: 'utf-8' codec can't decode byte 0xb2 in position 12: invalid start byte\n----------------------------------------\n----------------------------------------\nException happened during processing of request from ('127.0.0.1', 34104)\nTraceback (most recent call last):\n  File \"/home/trusted-service-user/cluster-env/env/lib/python3.6/socketserver.py\", line 320, in _handle_request_noblock\n    self.process_request(request, client_address)\n  File \"/home/trusted-service-user/cluster-env/env/lib/python3.6/socketserver.py\", line 351, in process_request\n    self.finish_request(request, client_address)\n  File \"/home/trusted-service-user/cluster-env/env/lib/python3.6/socketserver.py\", line 364, in finish_request\n    self.RequestHandlerClass(request, client_address, self)\n  File \"/home/trusted-service-user/cluster-env/env/lib/python3.6/socketserver.py\", line 724, in __init__\n    self.handle()\n  File \"/opt/spark/python/lib/pyspark.zip/pyspark/accumulators.py\", line 267, in handle\n    poll(authenticate_and_accum_updates)\n  File \"/opt/spark/python/lib/pyspark.zip/pyspark/accumulators.py\", line 241, in poll\n    if func():\n  File \"/opt/spark/python/lib/pyspark.zip/pyspark/accumulators.py\", line 256, in authenticate_and_accum_updates\n    received_token = received_token.decode(\"utf-8\")\nUnicodeDecodeError: 'utf-8' codec can't decode byte 0xcf in position 11: invalid continuation byte\n----------------------------------------\n----------------------------------------\nException happened during processing of request from ('127.0.0.1', 34106)\nTraceback (most recent call last):\n  File \"/home/trusted-service-user/cluster-env/env/lib/python3.6/socketserver.py\", line 320, in _handle_request_noblock\n    self.process_request(request, client_address)\n  File \"/home/trusted-service-user/cluster-env/env/lib/python3.6/socketserver.py\", line 351, in process_request\n    self.finish_request(request, client_address)\n  File \"/home/trusted-service-user/cluster-env/env/lib/python3.6/socketserver.py\", line 364, in finish_request\n    self.RequestHandlerClass(request, client_address, self)\n  File \"/home/trusted-service-user/cluster-env/env/lib/python3.6/socketserver.py\", line 724, in __init__\n    self.handle()\n  File \"/opt/spark/python/lib/pyspark.zip/pyspark/accumulators.py\", line 267, in handle\n    poll(authenticate_and_accum_updates)\n  File \"/opt/spark/python/lib/pyspark.zip/pyspark/accumulators.py\", line 241, in poll\n    if func():\n  File \"/opt/spark/python/lib/pyspark.zip/pyspark/accumulators.py\", line 256, in authenticate_and_accum_updates\n    received_token = received_token.decode(\"utf-8\")\nUnicodeDecodeError: 'utf-8' codec can't decode byte 0xaf in position 4: invalid start byte\n----------------------------------------\n----------------------------------------\nException happened during processing of request from ('127.0.0.1', 34108)\nTraceback (most recent call last):\n  File \"/home/trusted-service-user/cluster-env/env/lib/python3.6/socketserver.py\", line 320, in _handle_request_noblock\n    self.process_request(request, client_address)\n  File \"/home/trusted-service-user/cluster-env/env/lib/python3.6/socketserver.py\", line 351, in process_request\n    self.finish_request(request, client_address)\n  File \"/home/trusted-service-user/cluster-env/env/lib/python3.6/socketserver.py\", line 364, in finish_request\n    self.RequestHandlerClass(request, client_address, self)\n  File \"/home/trusted-service-user/cluster-env/env/lib/python3.6/socketserver.py\", line 724, in __init__\n    self.handle()\n  File \"/opt/spark/python/lib/pyspark.zip/pyspark/accumulators.py\", line 267, in handle\n    poll(authenticate_and_accum_updates)\n  File \"/opt/spark/python/lib/pyspark.zip/pyspark/accumulators.py\", line 241, in poll\n    if func():\n  File \"/opt/spark/python/lib/pyspark.zip/pyspark/accumulators.py\", line 256, in authenticate_and_accum_updates\n    received_token = received_token.decode(\"utf-8\")\nUnicodeDecodeError: 'utf-8' codec can't decode byte 0xa6 in position 15: invalid start byte\n----------------------------------------\n----------------------------------------\nException happened during processing of request from ('127.0.0.1', 34110)\nTraceback (most recent call last):\n  File \"/home/trusted-service-user/cluster-env/env/lib/python3.6/socketserver.py\", line 320, in _handle_request_noblock\n    self.process_request(request, client_address)\n  File \"/home/trusted-service-user/cluster-env/env/lib/python3.6/socketserver.py\", line 351, in process_request\n    self.finish_request(request, client_address)\n  File \"/home/trusted-service-user/cluster-env/env/lib/python3.6/socketserver.py\", line 364, in finish_request\n    self.RequestHandlerClass(request, client_address, self)\n  File \"/home/trusted-service-user/cluster-env/env/lib/python3.6/socketserver.py\", line 724, in __init__\n    self.handle()\n  File \"/opt/spark/python/lib/pyspark.zip/pyspark/accumulators.py\", line 267, in handle\n    poll(authenticate_and_accum_updates)\n  File \"/opt/spark/python/lib/pyspark.zip/pyspark/accumulators.py\", line 241, in poll\n    if func():\n  File \"/opt/spark/python/lib/pyspark.zip/pyspark/accumulators.py\", line 256, in authenticate_and_accum_updates\n    received_token = received_token.decode(\"utf-8\")\nUnicodeDecodeError: 'utf-8' codec can't decode byte 0xaf in position 4: invalid start byte\n----------------------------------------\n----------------------------------------\nException happened during processing of request from ('127.0.0.1', 34112)\nTraceback (most recent call last):\n  File \"/home/trusted-service-user/cluster-env/env/lib/python3.6/socketserver.py\", line 320, in _handle_request_noblock\n    self.process_request(request, client_address)\n  File \"/home/trusted-service-user/cluster-env/env/lib/python3.6/socketserver.py\", line 351, in process_request\n    self.finish_request(request, client_address)\n  File \"/home/trusted-service-user/cluster-env/env/lib/python3.6/socketserver.py\", line 364, in finish_request\n    self.RequestHandlerClass(request, client_address, self)\n  File \"/home/trusted-service-user/cluster-env/env/lib/python3.6/socketserver.py\", line 724, in __init__\n    self.handle()\n  File \"/opt/spark/python/lib/pyspark.zip/pyspark/accumulators.py\", line 267, in handle\n    poll(authenticate_and_accum_updates)\n  File \"/opt/spark/python/lib/pyspark.zip/pyspark/accumulators.py\", line 241, in poll\n    if func():\n  File \"/opt/spark/python/lib/pyspark.zip/pyspark/accumulators.py\", line 256, in authenticate_and_accum_updates\n    received_token = received_token.decode(\"utf-8\")\nUnicodeDecodeError: 'utf-8' codec can't decode byte 0xac in position 11: invalid start byte\n----------------------------------------\n----------------------------------------\nException happened during processing of request from ('127.0.0.1', 34114)\nTraceback (most recent call last):\n  File \"/home/trusted-service-user/cluster-env/env/lib/python3.6/socketserver.py\", line 320, in _handle_request_noblock\n    self.process_request(request, client_address)\n  File \"/home/trusted-service-user/cluster-env/env/lib/python3.6/socketserver.py\", line 351, in process_request\n    self.finish_request(request, client_address)\n  File \"/home/trusted-service-user/cluster-env/env/lib/python3.6/socketserver.py\", line 364, in finish_request\n    self.RequestHandlerClass(request, client_address, self)\n  File \"/home/trusted-service-user/cluster-env/env/lib/python3.6/socketserver.py\", line 724, in __init__\n    self.handle()\n  File \"/opt/spark/python/lib/pyspark.zip/pyspark/accumulators.py\", line 267, in handle\n    poll(authenticate_and_accum_updates)\n  File \"/opt/spark/python/lib/pyspark.zip/pyspark/accumulators.py\", line 241, in poll\n    if func():\n  File \"/opt/spark/python/lib/pyspark.zip/pyspark/accumulators.py\", line 256, in authenticate_and_accum_updates\n    received_token = received_token.decode(\"utf-8\")\nUnicodeDecodeError: 'utf-8' codec can't decode byte 0xcd in position 12: invalid continuation byte\n----------------------------------------\n----------------------------------------\nException happened during processing of request from ('127.0.0.1', 34116)\nTraceback (most recent call last):\n  File \"/home/trusted-service-user/cluster-env/env/lib/python3.6/socketserver.py\", line 320, in _handle_request_noblock\n    self.process_request(request, client_address)\n  File \"/home/trusted-service-user/cluster-env/env/lib/python3.6/socketserver.py\", line 351, in process_request\n    self.finish_request(request, client_address)\n  File \"/home/trusted-service-user/cluster-env/env/lib/python3.6/socketserver.py\", line 364, in finish_request\n    self.RequestHandlerClass(request, client_address, self)\n  File \"/home/trusted-service-user/cluster-env/env/lib/python3.6/socketserver.py\", line 724, in __init__\n    self.handle()\n  File \"/opt/spark/python/lib/pyspark.zip/pyspark/accumulators.py\", line 267, in handle\n    poll(authenticate_and_accum_updates)\n  File \"/opt/spark/python/lib/pyspark.zip/pyspark/accumulators.py\", line 241, in poll\n    if func():\n  File \"/opt/spark/python/lib/pyspark.zip/pyspark/accumulators.py\", line 256, in authenticate_and_accum_updates\n    received_token = received_token.decode(\"utf-8\")\nUnicodeDecodeError: 'utf-8' codec can't decode byte 0xce in position 4: invalid continuation byte\n----------------------------------------\n----------------------------------------\nException happened during processing of request from ('127.0.0.1', 34118)\nTraceback (most recent call last):\n  File \"/home/trusted-service-user/cluster-env/env/lib/python3.6/socketserver.py\", line 320, in _handle_request_noblock\n    self.process_request(request, client_address)\n  File \"/home/trusted-service-user/cluster-env/env/lib/python3.6/socketserver.py\", line 351, in process_request\n    self.finish_request(request, client_address)\n  File \"/home/trusted-service-user/cluster-env/env/lib/python3.6/socketserver.py\", line 364, in finish_request\n    self.RequestHandlerClass(request, client_address, self)\n  File \"/home/trusted-service-user/cluster-env/env/lib/python3.6/socketserver.py\", line 724, in __init__\n    self.handle()\n  File \"/opt/spark/python/lib/pyspark.zip/pyspark/accumulators.py\", line 267, in handle\n    poll(authenticate_and_accum_updates)\n  File \"/opt/spark/python/lib/pyspark.zip/pyspark/accumulators.py\", line 241, in poll\n    if func():\n  File \"/opt/spark/python/lib/pyspark.zip/pyspark/accumulators.py\", line 256, in authenticate_and_accum_updates\n    received_token = received_token.decode(\"utf-8\")\nUnicodeDecodeError: 'utf-8' codec can't decode bytes in position 11-12: invalid continuation byte\n----------------------------------------\n----------------------------------------\nException happened during processing of request from ('127.0.0.1', 34120)\nTraceback (most recent call last):\n  File \"/home/trusted-service-user/cluster-env/env/lib/python3.6/socketserver.py\", line 320, in _handle_request_noblock\n    self.process_request(request, client_address)\n  File \"/home/trusted-service-user/cluster-env/env/lib/python3.6/socketserver.py\", line 351, in process_request\n    self.finish_request(request, client_address)\n  File \"/home/trusted-service-user/cluster-env/env/lib/python3.6/socketserver.py\", line 364, in finish_request\n    self.RequestHandlerClass(request, client_address, self)\n  File \"/home/trusted-service-user/cluster-env/env/lib/python3.6/socketserver.py\", line 724, in __init__\n    self.handle()\n  File \"/opt/spark/python/lib/pyspark.zip/pyspark/accumulators.py\", line 267, in handle\n    poll(authenticate_and_accum_updates)\n  File \"/opt/spark/python/lib/pyspark.zip/pyspark/accumulators.py\", line 241, in poll\n    if func():\n  File \"/opt/spark/python/lib/pyspark.zip/pyspark/accumulators.py\", line 256, in authenticate_and_accum_updates\n    received_token = received_token.decode(\"utf-8\")\nUnicodeDecodeError: 'utf-8' codec can't decode byte 0x89 in position 4: invalid start byte\n----------------------------------------"
          },
          "metadata": {}
        }
      ],
      "execution_count": 5,
      "metadata": {}
    },
    {
      "cell_type": "markdown",
      "source": [
        "### 6. Retrieving the Best Model and Forecasting\n"
      ],
      "metadata": {}
    },
    {
      "cell_type": "code",
      "source": [
        "# Retrieving the best model\n",
        "best_run, fitted_model = remote_run.get_output()\n",
        "print(fitted_model.steps)\n",
        "model_name = best_run.properties['model_name']\n",
        "print(model_name)\n",
        "\n",
        "# Forecasting based on test dataset\n",
        "X_test = test\n",
        "y_test = X_test.pop(target_column_name).values\n",
        "X_test[time_column_name] = pd.to_datetime(X_test[time_column_name])\n",
        "y_predictions, X_trans = fitted_model.forecast(X_test)"
      ],
      "outputs": [
        {
          "output_type": "display_data",
          "data": {
            "application/vnd.livy.statement-meta+json": {
              "spark_pool": "sparkpool",
              "session_id": 11,
              "statement_id": 8,
              "state": "finished",
              "livy_statement_state": "available",
              "queued_time": "2021-01-17T04:58:42.8486121Z",
              "execution_start_time": "2021-01-17T04:58:42.8814339Z",
              "execution_finish_time": "2021-01-17T05:00:04.3516338Z"
            },
            "text/plain": "StatementMeta(sparkpool, 11, 8, Finished, Available)"
          },
          "metadata": {}
        },
        {
          "output_type": "execute_result",
          "execution_count": 6,
          "data": {
            "text/plain": "[('timeseriestransformer', TimeSeriesTransformer(featurization_config=None,\n                      pipeline_type=<TimeSeriesPipelineType.FULL: 1>)), ('prefittedsoftvotingregressor', PreFittedSoftVotingRegressor(estimators=[('13',\n                                          Pipeline(memory=None,\n                                                   steps=[('robustscaler',\n                                                           RobustScaler(copy=True,\n                                                                        quantile_range=[10,\n                                                                                        90],\n                                                                        with_centering=True,\n                                                                        with_scaling=False)),\n                                                          ('decisiontreeregressor',\n                                                           DecisionTreeRegressor(ccp_alpha=0.0,\n                                                                                 criterion='friedman_mse',\n                                                                                 max_depth=None,\n                                                                                 max_features=None,\n                                                                                 max_leaf_nodes=None,\n                                                                                 min_impurity_decrease=0.0,\n                                                                                 min_imp...\n                                                                                 max_depth=None,\n                                                                                 max_features=0.9,\n                                                                                 max_leaf_nodes=None,\n                                                                                 min_impurity_decrease=0.0,\n                                                                                 min_impurity_split=None,\n                                                                                 min_samples_leaf=0.007594568292413517,\n                                                                                 min_samples_split=0.0037087774117744725,\n                                                                                 min_weight_fraction_leaf=0.0,\n                                                                                 presort='deprecated',\n                                                                                 random_state=None,\n                                                                                 splitter='best'))],\n                                                   verbose=False))],\n                             weights=[0.25, 0.4166666666666667,\n                                      0.16666666666666666,\n                                      0.16666666666666666]))]\nAutoML9569e0cde30"
          },
          "metadata": {}
        }
      ],
      "execution_count": 6,
      "metadata": {}
    },
    {
      "cell_type": "markdown",
      "source": [
        "### 7. Plotting the Results\n",
        "\n",
        "At this point you should have a chart that created with AutoML and MatplotLib. \n",
        "\n",
        "The results are that good because of the **logQuantity** column, a  data Leakage calculated from **quantity** column. You can try to run the same experiment without it.\n"
      ],
      "metadata": {}
    },
    {
      "cell_type": "code",
      "source": [
        "import pandas as pd\n",
        "import numpy as np\n",
        "from pandas.tseries.frequencies import to_offset\n",
        "\n",
        "\n",
        "def align_outputs(y_predicted, X_trans, X_test, y_test, target_column_name,\n",
        "                  predicted_column_name='predicted',\n",
        "                  horizon_colname='horizon_origin'):\n",
        "    \"\"\"\n",
        "    Demonstrates how to get the output aligned to the inputs\n",
        "    using pandas indexes. Helps understand what happened if\n",
        "    the output's shape differs from the input shape, or if\n",
        "    the data got re-sorted by time and grain during forecasting.\n",
        "\n",
        "    Typical causes of misalignment are:\n",
        "    * we predicted some periods that were missing in actuals -> drop from eval\n",
        "    * model was asked to predict past max_horizon -> increase max horizon\n",
        "    * data at start of X_test was needed for lags -> provide previous periods\n",
        "    \"\"\"\n",
        "\n",
        "    if (horizon_colname in X_trans):\n",
        "        df_fcst = pd.DataFrame({predicted_column_name: y_predicted,\n",
        "                                horizon_colname: X_trans[horizon_colname]})\n",
        "    else:\n",
        "        df_fcst = pd.DataFrame({predicted_column_name: y_predicted})\n",
        "\n",
        "    # y and X outputs are aligned by forecast() function contract\n",
        "    df_fcst.index = X_trans.index\n",
        "\n",
        "    # align original X_test to y_test\n",
        "    X_test_full = X_test.copy()\n",
        "    X_test_full[target_column_name] = y_test\n",
        "\n",
        "    # X_test_full's index does not include origin, so reset for merge\n",
        "    df_fcst.reset_index(inplace=True)\n",
        "    X_test_full = X_test_full.reset_index().drop(columns='index')\n",
        "    together = df_fcst.merge(X_test_full, how='right')\n",
        "\n",
        "    # drop rows where prediction or actuals are nan\n",
        "    # happens because of missing actuals\n",
        "    # or at edges of time due to lags/rolling windows\n",
        "    clean = together[together[[target_column_name,\n",
        "                               predicted_column_name]].notnull().all(axis=1)]\n",
        "    return(clean)\n",
        "\n",
        "\n",
        "df_all = align_outputs(y_predictions, X_trans, X_test, y_test, target_column_name)\n",
        "\n",
        "from azureml.automl.core._vendor.automl.client.core.common import metrics\n",
        "from matplotlib import pyplot as plt\n",
        "from automl.client.core.common import constants\n",
        "\n",
        "# use automl metrics module\n",
        "scores = metrics.compute_metrics_regression(\n",
        "    df_all['predicted'],\n",
        "    df_all[target_column_name],\n",
        "    list(constants.Metric.SCALAR_REGRESSION_SET),\n",
        "    None, None, None)\n",
        "\n",
        "print(\"[Test data scores]\\n\")\n",
        "for key, value in scores.items():    \n",
        "    print('{}:   {:.3f}'.format(key, value))\n",
        "    \n",
        "# Plot outputs\n",
        "#%matplotlib inline\n",
        "test_pred = plt.scatter(df_all[target_column_name], df_all['predicted'], color='b')\n",
        "test_test = plt.scatter(df_all[target_column_name], df_all[target_column_name], color='g')\n",
        "plt.legend((test_pred, test_test), ('prediction', 'truth'), loc='upper left', fontsize=8)\n",
        "plt.show()"
      ],
      "outputs": [
        {
          "output_type": "display_data",
          "data": {
            "application/vnd.livy.statement-meta+json": {
              "spark_pool": "sparkpool",
              "session_id": 11,
              "statement_id": 9,
              "state": "finished",
              "livy_statement_state": "available",
              "queued_time": "2021-01-17T05:00:31.8280489Z",
              "execution_start_time": "2021-01-17T05:00:31.8644228Z",
              "execution_finish_time": "2021-01-17T05:00:44.1131838Z"
            },
            "text/plain": "StatementMeta(sparkpool, 11, 9, Finished, Available)"
          },
          "metadata": {}
        },
        {
          "output_type": "display_data",
          "data": {
            "text/plain": "[Test data scores]\n\nroot_mean_squared_error:   26.992\nnormalized_root_mean_squared_error:   0.016\nnormalized_root_mean_squared_log_error:   0.007\nr2_score:   0.990\nroot_mean_squared_log_error:   0.036\nexplained_variance:   0.990\nmedian_absolute_error:   1.185\nmean_absolute_error:   8.534\nmean_absolute_percentage_error:   2.246\nnormalized_mean_absolute_error:   0.005\nspearman_correlation:   1.000\nnormalized_median_absolute_error:   0.001\n"
          },
          "metadata": {}
        },
        {
          "output_type": "display_data",
          "data": {
            "image/png": "[encoded data removed]"
          },
          "metadata": {}
        },
        {
          "output_type": "execute_result",
          "execution_count": 7,
          "data": {},
          "metadata": {}
        }
      ],
      "execution_count": 7,
      "metadata": {}
    },
    {
      "cell_type": "markdown",
      "source": [
        "### 8. Register Model"
      ],
      "metadata": {}
    },
    {
      "cell_type": "code",
      "source": [
        "model_name = best_run.properties['model_name']\n",
        "\n",
        "script_file_name = 'inference/score.py'\n",
        "conda_env_file_name = 'inference/env.yml'\n",
        "\n",
        "best_run.download_file('outputs/scoring_file_v_1_0_0.py', 'inference/score.py')\n",
        "best_run.download_file('outputs/conda_env_v_1_0_0.yml', 'inference/env.yml')\n",
        "\n",
        "registered_model = remote_run.register_model(model_name = model_name)\n",
        "\n",
        "print(remote_run.model_id)"
      ],
      "outputs": [
        {
          "output_type": "display_data",
          "data": {
            "application/vnd.livy.statement-meta+json": {
              "spark_pool": "sparkpool",
              "session_id": 11,
              "statement_id": 10,
              "state": "finished",
              "livy_statement_state": "available",
              "queued_time": "2021-01-17T05:01:04.5289398Z",
              "execution_start_time": "2021-01-17T05:01:04.5623352Z",
              "execution_finish_time": "2021-01-17T05:02:09.7819466Z"
            },
            "text/plain": "StatementMeta(sparkpool, 11, 10, Finished, Available)"
          },
          "metadata": {}
        },
        {
          "output_type": "execute_result",
          "execution_count": 8,
          "data": {
            "text/plain": "AutoML9569e0cde30"
          },
          "metadata": {}
        }
      ],
      "execution_count": 8,
      "metadata": {}
    },
    {
      "cell_type": "markdown",
      "source": [
        "### 9. Deploy Web Service as Azure Container Instance"
      ],
      "metadata": {}
    },
    {
      "cell_type": "code",
      "source": [
        "from azureml.core.webservice import AciWebservice, Webservice\n",
        "\n",
        "aci_config = AciWebservice.deploy_configuration(\n",
        "   cpu_cores = 1, \n",
        "   memory_gb = 2, \n",
        "   tags = {'name':'scoring'}, \n",
        "   description = 'Scoring web service')\n",
        "\n",
        "from azureml.core.model import InferenceConfig\n",
        "inference_config = InferenceConfig(runtime=\"python\", \n",
        "                                       entry_script=script_file_name,\n",
        "                                       conda_file=conda_env_file_name)\n",
        "\n",
        "from azureml.core.model import Model\n",
        "webservice = Model.deploy(workspace=ws,\n",
        "                              name=\"scoringservice\",\n",
        "                              models=[registered_model],\n",
        "                              inference_config=inference_config,\n",
        "                              deployment_config=aci_config)"
      ],
      "outputs": [
        {
          "output_type": "display_data",
          "data": {
            "application/vnd.livy.statement-meta+json": {
              "spark_pool": "sparkpool",
              "session_id": 11,
              "statement_id": 11,
              "state": "finished",
              "livy_statement_state": "available",
              "queued_time": "2021-01-17T05:02:30.7807496Z",
              "execution_start_time": "2021-01-17T05:02:30.8167414Z",
              "execution_finish_time": "2021-01-17T05:02:41.0832787Z"
            },
            "text/plain": "StatementMeta(sparkpool, 11, 11, Finished, Available)"
          },
          "metadata": {}
        },
        {
          "output_type": "execute_result",
          "execution_count": 9,
          "data": {
            "text/plain": ""
          },
          "metadata": {}
        }
      ],
      "execution_count": 9,
      "metadata": {}
    }
  ],
  "metadata": {
    "sessionOptions": {
      "driverMemory": "28g",
      "driverCores": 4,
      "executorMemory": "28g",
      "executorCores": 4,
      "numExecutors": 2,
      "keepAliveTimeout": 30,
      "conf": {
        "spark.dynamicAllocation.enabled": "false",
        "spark.dynamicAllocation.minExecutors": "2",
        "spark.dynamicAllocation.maxExecutors": "2"
      }
    },
    "saveOutput": true,
    "language_info": {
      "name": "scala",
      "version": "2.11.12",
      "mimetype": "text/x-scala",
      "file_extension": ".scala",
      "pygments_lexer": "scala",
      "codemirror_mode": "scala",
      "nbconvert_exporter": "scala"
    },
    "microsoft": {
      "language": "python"
    },
    "kernelspec": {
      "name": "synapse_pyspark",
      "language": "Python",
      "display_name": "Synapse PySpark"
    },
    "kernel_info": {
      "name": "synapse_pyspark"
    },
    "nteract": {
      "version": "nteract-front-end@1.0.0"
    }
  },
  "nbformat": 4,
  "nbformat_minor": 2
}