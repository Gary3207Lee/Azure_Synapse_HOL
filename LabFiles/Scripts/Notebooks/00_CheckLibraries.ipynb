{
  "cells": [
    {
      "cell_type": "code",
      "source": [
        "import pkg_resources\n",
        "for d in pkg_resources.working_set:\n",
        "     print(d)"
      ],
      "outputs": [
        {
          "output_type": "display_data",
          "data": {
            "application/vnd.livy.statement-meta+json": {
              "spark_pool": "sparkpool",
              "session_id": 0,
              "statement_id": 5,
              "state": "finished",
              "livy_statement_state": "available",
              "queued_time": "2021-01-17T02:23:23.7625534Z",
              "execution_start_time": "2021-01-17T02:23:23.7995396Z",
              "execution_finish_time": "2021-01-17T02:23:25.8346596Z"
            },
            "text/plain": "StatementMeta(sparkpool, 0, 5, Finished, Available)"
          },
          "metadata": {}
        },
        {
          "output_type": "execute_result",
          "execution_count": 3,
          "data": {
            "text/plain": "zipp 0.6.0\nzict 1.0.0\nyarl 1.6.3\nxgboost 0.90\nwrapt 1.11.2\nwheel 0.30.0\nWerkzeug 0.16.1\nwebsocket-client 0.57.0\nwebencodings 0.5.1\nwcwidth 0.2.5\nurllib3 1.25.10\ntyping-extensions 3.7.4.3\ntyped-ast 1.4.1\ntransformers 3.4.0\ntraitlets 4.3.3\ntqdm 4.48.2\ntornado 6.1\ntorch 1.7.0\ntoolz 0.11.1\ntoml 0.10.2\ntokenizers 0.9.2\ntifffile 2020.9.3\ntf2onnx 1.7.2\ntf-estimator-nightly 1.14.0.dev2019060501\ntextblob 0.15.3\ntermcolor 1.1.0\ntensorflow 2.0.0b1\ntensorflow-estimator 2.3.0\ntensorboard 2.3.0\ntensorboard-plugin-wit 1.7.0\ntb-nightly 1.14.0a20190603\ntabulate 0.8.7\nstatsmodels 0.10.2\nsqlparse 0.4.1\nsqlitedict 1.7.0\nSQLAlchemy 1.3.13\nsoupsieve 2.0.1\nsmmap 3.0.4\nsmart-open 1.9.0\nsklearn-pandas 1.7.0\nskl2onnx 1.4.9\nsix 1.15.0\nshap 0.34.0\nsetuptools 41.4.0\nsentencepiece 0.1.94\nsegtok 1.5.10\nSecretStorage 3.1.2\nseaborn 0.11.0\nscipy 1.4.1\nscikit-learn 0.22.2.post1\nscikit-image 0.17.2\nsacremoses 0.0.43\ns3transfer 0.3.3\nruamel.yaml 0.16.12\nruamel.yaml.clib 0.2.2\nrsa 4.6\nretrying 1.3.3\nrequests 2.24.0\nrequests-oauthlib 1.3.0\nregex 2020.10.28\nquerystring-parser 1.2.4\nPyYAML 5.3.1\nPyWavelets 1.1.1\npytz 2020.1\npytools 2021.1\npython-editor 1.0.4\npython-dateutil 2.8.1\npytest 5.3.2\npyspark 2.4.4\npyrsistent 0.17.3\npyparsing 2.4.7\npyOpenSSL 19.1.0\npyopencl 2020.1\npyodbc 4.0.30\npymssql 2.1.5\npylint 2.6.0\nPyJWT 1.7.1\nPygments 2.7.4\npycrypto 2.6.1\npycparser 2.20\npyasn1 0.4.8\npyasn1-modules 0.2.8\npyarrow 1.0.1\npy4j 0.10.7\npy 1.9.0\npy-cpuinfo 5.0.0\nptyprocess 0.7.0\npsutil 5.7.2\nprotobuf 3.13.0\nprompt-toolkit 2.0.10\nprometheus-flask-exporter 0.18.1\nprometheus-client 0.8.0\nportalocker 1.7.1\npmdarima 1.1.1\npluggy 0.13.1\nplotly 4.12.0\npip 20.2.4\nPillow 8.0.1\npickleshare 0.7.5\npexpect 4.8.0\npatsy 0.5.1\npathspec 0.8.0\nparso 0.8.1\npandasql 0.7.3\npandas 0.25.3\npackaging 20.4\nopt-einsum 3.3.0\nopenpyxl 3.0.5\nonnxruntime 1.3.0\nonnxmltools 1.4.1\nonnxconverter-common 1.6.0\nonnx 1.6.0\nolefile 0.46\nodo 0.5.0\noauthlib 3.1.0\nnumpy 1.18.5\nnotebookutils 2.4.4-20201208.4\nnose 1.3.7\nnltk 3.5\nnimbusml 1.7.1\nnetworkx 2.5\nndg-httpsclient 0.5.1\nmypy 0.780\nmypy-extensions 0.4.3\nmultipledispatch 0.6.0\nmultidict 5.0.0\nmsrestazure 0.6.4\nmsrest 0.6.19\nmsal 1.5.0\nmsal-extensions 0.2.2\nmpmath 1.1.0\nmpld3 0.3\nmore-itertools 8.6.0\nmmlspark 1.0.0.dev1\nmlflow 1.11.0\nmleap 0.16.1\nmistune 0.8.4\nmccabe 0.6.1\nmatplotlib 3.2.2\nMarkupSafe 1.1.1\nMarkdown 3.3.3\nMako 1.1.3\nlightgbm 2.3.0\nlibrary-metadata-cooker 0.0.2\nliac-arff 2.5.0\nlazy-object-proxy 1.4.3\nlangdetect 1.0.8\nkoalas 1.2.0\nkiwisolver 1.3.1\nkeras2onnx 1.6.0\nKeras-Preprocessing 1.1.2\nKeras-Applications 1.0.8\njsonschema 3.2.0\njsonpickle 1.4.1\njson-logging-py 0.2\njoblib 0.14.1\njmespath 0.10.0\nJinja2 2.11.2\njeepney 0.4.3\njedi 0.18.0\njdcal 1.4.1\nitsdangerous 1.1.0\nisort 5.6.4\nisodate 0.6.0\nipython 7.8.0\nipython-genutils 0.2.0\ninterpret-core 0.2.1\ninterpret-community 0.15.1\nimportlib-metadata 1.7.0\nimageio 2.9.0\nidna 2.10\nidna-ssl 1.1.0\nhyperopt 0.2.5\nhummingbird-ml 0.0.6\nhtml5lib 1.1\nHeapDict 1.0.1\nh5py 2.10.0\ngunicorn 19.9.0\ngrpcio 1.33.2\ngorilla 0.3.0\ngoogle-pasta 0.2.0\ngoogle-auth 1.23.0\ngoogle-auth-oauthlib 0.4.2\nGitPython 3.1.11\ngitdb 4.0.5\ngeopy 2.0.0\ngeographiclib 1.50\ngensim 3.8.3\ngast 0.3.3\nfuture 0.18.2\nfusepy 3.0.1\nfsspec 0.8.4\nFlask 1.0.3\nflair 0.5\nfire 0.3.1\nfilelock 3.0.12\net-xmlfile 1.0.1\nentrypoints 0.3\ndotnetcore2 2.1.17\ndocutils 0.16\ndocker 4.3.1\ndistro 1.5.0\ndill 0.3.2\nDeprecated 1.2.10\ndecorator 4.4.2\ndatashape 0.5.2\ndataclasses 0.8\ndatabricks-cli 0.14.0\ncytoolz 0.8.2\nCython 0.29.21\ncycler 0.10.0\ncryptography 3.1.1\ncontextlib2 0.6.0.post1\nconfigparser 3.7.4\ncloudpickle 1.6.0\nclick 7.1.2\nchardet 3.0.4\ncffi 1.14.3\ncertifi 2020.6.20\ncachetools 4.1.1\nbpemb 0.3.2\nBottleneck 1.3.2\nbotocore 1.18.14\nboto3 1.15.14\nboto 2.49.0\nbokeh 2.2.3\nbitarray 1.6.1\nbeautifulsoup4 4.9.3\nbackports.weakref 1.0.post1\nbackports.tempfile 1.0\nbackcall 0.2.0\nazureml-train 1.16.0\nazureml-train-restclients-hyperdrive 1.16.0\nazureml-train-core 1.16.0\nazureml-train-automl 1.16.0\nazureml-train-automl-runtime 1.16.0\nazureml-train-automl-client 1.16.0\nazureml-telemetry 1.16.0\nazureml-sdk 1.16.0\nazureml-pipeline 1.16.0\nazureml-pipeline-steps 1.16.0\nazureml-pipeline-core 1.16.0\nazureml-opendatasets 1.18.0\nazureml-model-management-sdk 1.0.1b6.post1\nazureml-mlflow 1.16.0\nazureml-interpret 1.16.0\nazureml-defaults 1.16.0\nazureml-dataset-runtime 1.16.0\nazureml-dataprep 2.3.1\nazureml-dataprep-rslex 1.1.1\nazureml-dataprep-native 23.0.0\nazureml-core 1.16.0\nazureml-automl-runtime 1.16.0\nazureml-automl-core 1.16.0\nazure-storage-common 2.1.0\nazure-storage-blob 12.5.0\nazure-mgmt-storage 11.2.0\nazure-mgmt-resource 10.2.0\nazure-mgmt-keyvault 2.2.0\nazure-mgmt-containerregistry 2.8.0\nazure-mgmt-authorization 0.61.0\nazure-identity 1.4.1\nazure-graphrbac 0.61.1\nazure-datalake-store 0.0.51\nazure-core 1.8.2\nazure-common 1.1.25\nattrs 20.3.0\nasync-timeout 3.0.1\nastunparse 1.6.3\nastroid 2.4.2\nastor 0.8.1\nasn1crypto 1.4.0\napplicationinsights 0.11.9\nappdirs 1.4.4\naltair 4.1.0\nalembic 1.4.1\naiohttp 3.7.2\nadlfs 0.5.5\nadal 1.2.4\nabsl-py 0.11.0"
          },
          "metadata": {}
        }
      ],
      "execution_count": 3,
      "metadata": {}
    }
  ],
  "metadata": {
    "sessionOptions": {
      "driverMemory": "28g",
      "driverCores": 4,
      "executorMemory": "28g",
      "executorCores": 4,
      "numExecutors": 2,
      "keepAliveTimeout": 30,
      "conf": {
        "spark.dynamicAllocation.enabled": "false",
        "spark.dynamicAllocation.minExecutors": "2",
        "spark.dynamicAllocation.maxExecutors": "2"
      }
    },
    "saveOutput": true,
    "language_info": {
      "name": "scala",
      "version": "2.11.12",
      "mimetype": "text/x-scala",
      "file_extension": ".scala",
      "pygments_lexer": "scala",
      "codemirror_mode": "scala",
      "nbconvert_exporter": "scala"
    },
    "microsoft": {
      "language": "python"
    },
    "kernelspec": {
      "name": "synapse_pyspark",
      "language": "Python",
      "display_name": "Synapse PySpark"
    },
    "kernel_info": {
      "name": "synapse_pyspark"
    },
    "nteract": {
      "version": "nteract-front-end@1.0.0"
    }
  },
  "nbformat": 4,
  "nbformat_minor": 2
}