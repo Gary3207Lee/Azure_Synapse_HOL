{
  "metadata": {
    "saveOutput": false,
    "language_info": {
      "name": "python"
    }
  },
  "nbformat": 4,
  "nbformat_minor": 2,
  "cells": [
    {
      "cell_type": "markdown",
      "metadata": {},
      "source": [
        "### 1. Create Spark tables pointing to the Azure Cosmos DB Analytical Store collections using Azure Synapse Link \n",
        ""
      ],
      "attachments": {}
    },
    {
      "cell_type": "code",
      "execution_count": null,
      "outputs": [],
      "metadata": {},
      "source": [
        "%%sql\n",
        "create database CosmosDemoIoT"
      ],
      "attachments": {}
    },
    {
      "cell_type": "code",
      "execution_count": null,
      "outputs": [],
      "metadata": {},
      "source": [
        "%%sql\n",
        "\n",
        "create table if not exists CosmosDemoIoT.IoTSignals\n",
        "using cosmos.olap\n",
        "options(spark.synapse.linkedService 'CosmosDemo',\n",
        "        spark.cosmos.container 'IoTSignals')"
      ],
      "attachments": {}
    },
    {
      "cell_type": "code",
      "execution_count": null,
      "outputs": [],
      "metadata": {},
      "source": [
        "%%sql\n",
        "\n",
        "create table if not exists CosmosDemoIoT.IoTDeviceInfo\n",
        "using cosmos.olap\n",
        "options(spark.synapse.linkedService 'CosmosDemo',\n",
        "        spark.cosmos.container 'IoTDeviceInfo')"
      ],
      "attachments": {}
    },
    {
      "cell_type": "markdown",
      "metadata": {},
      "source": [
        "### 2. Perform Joins across collections, apply filters and aggregations using Spark SQL \n",
        ""
      ],
      "attachments": {}
    },
    {
      "cell_type": "code",
      "execution_count": null,
      "outputs": [],
      "metadata": {},
      "source": [
        "df_RPM_details = spark.sql(\"select a.deviceid \\\n",
        "                                 , b.devicetype \\\n",
        "                                 , cast(b.location as string) as location\\\n",
        "                                 , cast(b.latitude as float) as latitude\\\n",
        "                                 , cast(b.longitude as float) as  longitude\\\n",
        "                                 , a.measuretype \\\n",
        "                                 , a.unitSymbol \\\n",
        "                                 , cast(sum(measureValue) as float) as measureValueSum \\\n",
        "                                 , count(*) as count \\\n",
        "                            from CosmosDemoIoT.IoTSignals a \\\n",
        "                            left join CosmosDemoIoT.IoTDeviceInfo b \\\n",
        "                            on a.deviceid = b.deviceid \\\n",
        "                            where a.unitSymbol = 'RPM' \\\n",
        "                            group by a.deviceid, b.devicetype, b.location, b.latitude, b.longitude, a.measuretype, a.unitSymbol\")"
      ],
      "attachments": {}
    },
    {
      "cell_type": "markdown",
      "metadata": {},
      "source": [
        "### 3. View or chart the result-set using display() function\n",
        ""
      ],
      "attachments": {}
    },
    {
      "cell_type": "code",
      "execution_count": null,
      "outputs": [],
      "metadata": {},
      "source": [
        "display(df_RPM_details)"
      ],
      "attachments": {}
    },
    {
      "cell_type": "markdown",
      "metadata": {},
      "source": [
        "### 4. Visualizations using plotly and displayHTML()\n",
        "The below shows a heatmap of IoT signals across diffrent locations\n",
        ""
      ],
      "attachments": {}
    },
    {
      "cell_type": "code",
      "execution_count": null,
      "outputs": [],
      "metadata": {},
      "source": [
        "from plotly.offline import plot\n",
        "import plotly.express as px\n",
        "\n",
        "df_RPM_details_pd = df_RPM_details.toPandas()\n",
        "fig = px.scatter_mapbox(df_RPM_details_pd, \n",
        "                        lat='latitude', \n",
        "                        lon='longitude', \n",
        "                        size = 'measureValueSum',\n",
        "                        color = 'measureValueSum',\n",
        "                        hover_name = 'location',\n",
        "                        hover_data = ['measureValueSum','location'],\n",
        "                        size_max = 30,\n",
        "                        color_continuous_scale = px.colors.carto.Temps,\n",
        "                        zoom=3,\n",
        "                        height=600,\n",
        "                        width =900)\n",
        "\n",
        "fig.update_layout(mapbox_style='open-street-map')\n",
        "fig.update_layout(margin={\"r\":0,\"t\":0,\"l\":0,\"b\":0})\n",
        "\n",
        "p = plot(fig,output_type='div')\n",
        "displayHTML(p)       "
      ],
      "attachments": {}
    }
  ]
}